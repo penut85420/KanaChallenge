{
 "cells": [
  {
   "cell_type": "markdown",
   "id": "58414e5e",
   "metadata": {},
   "source": [
    "下載相關資料的小魔法"
   ]
  },
  {
   "cell_type": "code",
   "execution_count": null,
   "id": "c650a845",
   "metadata": {},
   "outputs": [],
   "source": [
    "!curl \"https://gist.githubusercontent.com/penut85420/5b383ee875f66cfba70c46ad0e2dd21b/raw/fbd21d468add3ad99370e23ed9dcbf10aa7740c9/kana-spell.json\" -o \"kana-spell.json\""
   ]
  },
  {
   "cell_type": "markdown",
   "id": "97492446",
   "metadata": {},
   "source": [
    "匯入相關套件"
   ]
  },
  {
   "cell_type": "code",
   "execution_count": null,
   "id": "58feb462",
   "metadata": {},
   "outputs": [],
   "source": [
    "# %pip install gradio -Uq\n",
    "import json\n",
    "import random\n",
    "\n",
    "import gradio as gr"
   ]
  },
  {
   "cell_type": "markdown",
   "id": "a0e70f14",
   "metadata": {},
   "source": [
    "讀取 JSON 檔案"
   ]
  },
  {
   "cell_type": "code",
   "execution_count": null,
   "id": "ded68528",
   "metadata": {},
   "outputs": [],
   "source": [
    "def load_json(file_path):\n",
    "    with open(file_path, \"rt\", encoding=\"UTF-8\") as fp:\n",
    "        return json.load(fp)\n",
    "\n",
    "\n",
    "data = load_json(\"kana-spell.json\")"
   ]
  },
  {
   "cell_type": "markdown",
   "id": "3b8dd771",
   "metadata": {},
   "source": [
    "範例用法"
   ]
  },
  {
   "cell_type": "code",
   "execution_count": null,
   "id": "259ddc4c",
   "metadata": {},
   "outputs": [],
   "source": [
    "selected = [\"handakuon\"]\n",
    "# selected = [\"seion\", \"dakuon\", \"handakuon\", \"youon\"]  # 全選\n",
    "category = [key for category in selected for key in data[\"category\"][category]]\n",
    "char_list = [ch for key in category for ch in data[\"hiragana\"][key]]\n",
    "char_list"
   ]
  },
  {
   "cell_type": "markdown",
   "id": "a9d00af0",
   "metadata": {},
   "source": [
    "分頁與切換分頁範例"
   ]
  },
  {
   "cell_type": "code",
   "execution_count": null,
   "id": "c8d2a7fd",
   "metadata": {},
   "outputs": [],
   "source": [
    "with gr.Blocks() as app:\n",
    "    with gr.Tabs(selected=1) as tabs:\n",
    "        with gr.Tab(\"分頁 A\", id=0):\n",
    "            gr.Markdown(\"這是分頁 A\")\n",
    "        with gr.Tab(\"分頁 B\", id=1):\n",
    "            gr.Markdown(\"這是分頁 B\")\n",
    "\n",
    "    btn_a = gr.Button(\"切換分頁 A\")\n",
    "    btn_b = gr.Button(\"切換分頁 B\")\n",
    "\n",
    "    btn_a.click(lambda: gr.Tabs(selected=0), outputs=tabs)\n",
    "    btn_b.click(lambda: gr.Tabs(selected=1), outputs=tabs)\n",
    "\n",
    "    app.launch()"
   ]
  },
  {
   "cell_type": "markdown",
   "id": "877756bc",
   "metadata": {},
   "source": [
    "準備資料"
   ]
  },
  {
   "cell_type": "code",
   "execution_count": null,
   "id": "e14f4bf6",
   "metadata": {},
   "outputs": [],
   "source": [
    "data = load_json(\"kana-spell.json\")\n",
    "\n",
    "hiragana = data[\"hiragana\"]\n",
    "katakana = data[\"katakana\"]\n",
    "category = data[\"category\"]\n",
    "spell = data[\"spell\"]"
   ]
  },
  {
   "cell_type": "markdown",
   "id": "a267e665",
   "metadata": {},
   "source": [
    "Gradio 元件宣告"
   ]
  },
  {
   "cell_type": "code",
   "execution_count": null,
   "id": "681c3df6",
   "metadata": {},
   "outputs": [],
   "source": [
    "with gr.Blocks() as app:\n",
    "    st_queue = gr.State(None)\n",
    "\n",
    "    # 全部放在一個 gr.Tabs 裡面\n",
    "    with gr.Tabs(selected=0) as tabs:\n",
    "        with gr.Tab(label=\"設定\", id=0):\n",
    "            # 使用 gr.Group 可以把這區的元件都黏在一起沒有空隙\n",
    "            with gr.Group():\n",
    "                # 這一區都是可以選擇的假名種類\n",
    "                chk_kana = gr.CheckboxGroup([\"平假名\", \"片假名\"], value=[\"平假名\"], label=\"假名\")\n",
    "                chk_seion = gr.CheckboxGroup(category[\"seion\"], value=[\"a\"], label=\"清音\")\n",
    "\n",
    "                # 濁音跟半濁音比較少，放在同一排\n",
    "                with gr.Row():\n",
    "                    chk_dakuon = gr.CheckboxGroup(category[\"dakuon\"], label=\"濁音\")\n",
    "                    chk_handakuon = gr.CheckboxGroup(category[\"handakuon\"], label=\"半濁音\")\n",
    "\n",
    "                chk_youon = gr.CheckboxGroup(category[\"youon\"], label=\"拗音\")\n",
    "\n",
    "            with gr.Row():\n",
    "                # 背到後期時會需要一次選取很多項目\n",
    "                btn_select_all = gr.Button(\"全選\")\n",
    "                btn_select_none = gr.Button(\"全不選\")\n",
    "            btn_start = gr.Button(\"開始測驗\")\n",
    "\n",
    "        with gr.Tab(label=\"測驗\", id=1):\n",
    "            with gr.Group():\n",
    "                # 不可以讓使用者修改題目\n",
    "                txt_test = gr.Textbox(label=\"題目\", interactive=False)\n",
    "\n",
    "                # 讓使用者作答的地方\n",
    "                txt_input = gr.Textbox(label=\"作答\", submit_btn=True)\n",
    "\n",
    "    # 這是個用來除錯的輔助元件\n",
    "    # 把 visible 設成 False 就不會顯示出來\n",
    "    # 這樣就不用修改原本的程式碼了\n",
    "    debug = gr.TextArea(label=\"Debug\", visible=True)\n",
    "\n",
    "    app.launch()"
   ]
  },
  {
   "cell_type": "markdown",
   "id": "38bf4943",
   "metadata": {},
   "source": [
    "開始測驗時選擇題目"
   ]
  },
  {
   "cell_type": "code",
   "execution_count": null,
   "id": "c13464d4",
   "metadata": {},
   "outputs": [],
   "source": [
    "def start_test(kana, seion, dakuon, handakuon, yoon):\n",
    "    # seion 等參數會傳入像是 [\"a\", \"ka\"] 等列表\n",
    "    # 使用 * 將這些列表展開成一維列表\n",
    "    category = [*seion, *dakuon, *handakuon, *yoon]\n",
    "\n",
    "    # 從平假名或片假名資料中取出對應的假名，全部放在 char_list 裡面\n",
    "    char_list = list()\n",
    "    char_list += [ch for k in category for ch in hiragana[k]] if \"平假名\" in kana else []\n",
    "    char_list += [ch for k in category for ch in katakana[k]] if \"片假名\" in kana else []\n",
    "\n",
    "    # 如果 char_list 是空的，則拋出錯誤\n",
    "    if not char_list:\n",
    "        raise gr.Error(\"請至少選擇一個類別\")\n",
    "\n",
    "    # 隨機打亂 char_list 的順序\n",
    "    random.shuffle(char_list)\n",
    "\n",
    "    # 取出第一個假名\n",
    "    char = char_list.pop(0)\n",
    "\n",
    "    # 回傳 char 給 txt_test 用來顯示題目\n",
    "    # 第一個 char_list 回傳給 st_queue 用來紀錄題目狀態\n",
    "    # 第二個 char_list 回傳給 debug 用來檢查\n",
    "    # 回傳 gr.Tabs(selected=1) 來切換到測驗分頁\n",
    "    return char, char_list, char_list, gr.Tabs(selected=1)"
   ]
  },
  {
   "cell_type": "markdown",
   "id": "08399fc6",
   "metadata": {},
   "source": [
    "檢查作答是否正確"
   ]
  },
  {
   "cell_type": "code",
   "execution_count": null,
   "id": "0fd5b83d",
   "metadata": {},
   "outputs": [],
   "source": [
    "def check_answer(txt_test, txt_input):\n",
    "    # 將輸入的拼音轉為小寫並去除前後空白\n",
    "    txt_input = str.lower(txt_input).strip()\n",
    "\n",
    "    # 如果 txt_input 符合任何一種拼音，則正確\n",
    "    if txt_input in spell[txt_test]:\n",
    "        gr.Info(\"正確！\")\n",
    "\n",
    "    # 如果拼音不正確，提示使用者正確的答案有哪些可能\n",
    "    else:\n",
    "        answer = \", \".join(spell[txt_test])\n",
    "        gr.Info(f\"錯誤，正確答案為 {answer}\")\n",
    "\n",
    "    # 回傳 None 來清空 txt_input 的內容\n",
    "    return None"
   ]
  },
  {
   "cell_type": "markdown",
   "id": "f9223c71",
   "metadata": {},
   "source": [
    "Typing Hint 偷吃步"
   ]
  },
  {
   "cell_type": "code",
   "execution_count": null,
   "id": "bdc8a962",
   "metadata": {},
   "outputs": [],
   "source": [
    "def foo(a: list, b: dict, c: str):\n",
    "    a.pop()\n",
    "    b.items()\n",
    "    c.lower()\n",
    "\n",
    "\n",
    "def bar(a, b, c):\n",
    "    list.pop(a)\n",
    "    dict.items(b)\n",
    "    str.lower(c)"
   ]
  },
  {
   "cell_type": "markdown",
   "id": "5dcf149e",
   "metadata": {},
   "source": [
    "顯示下一題"
   ]
  },
  {
   "cell_type": "code",
   "execution_count": null,
   "id": "51cc50ee",
   "metadata": {},
   "outputs": [],
   "source": [
    "def next_char(st_queue):\n",
    "    # 若 st_queue 是空的，則顯示測驗結束的訊息\n",
    "    if not st_queue:\n",
    "        gr.Info(\"測驗結束！\")\n",
    "        return None, None, None\n",
    "\n",
    "    # 繼續從 st_queue 中取出下一個假名\n",
    "    char = list.pop(st_queue, 0)\n",
    "\n",
    "    # 分別回傳給 txt_test, st_queue, debug 等元件\n",
    "    return char, st_queue, st_queue"
   ]
  },
  {
   "cell_type": "markdown",
   "id": "d935820c",
   "metadata": {},
   "source": [
    "全選與全不選"
   ]
  },
  {
   "cell_type": "code",
   "execution_count": null,
   "id": "508dc1e3",
   "metadata": {},
   "outputs": [],
   "source": [
    "def select_all():\n",
    "    return (\n",
    "        [\"平假名\", \"片假名\"],\n",
    "        category[\"seion\"],\n",
    "        category[\"dakuon\"],\n",
    "        category[\"handakuon\"],\n",
    "        category[\"youon\"],\n",
    "    )\n",
    "\n",
    "\n",
    "def select_none():\n",
    "    return [], [], [], [], []"
   ]
  },
  {
   "cell_type": "code",
   "execution_count": null,
   "id": "11ec381a",
   "metadata": {},
   "outputs": [],
   "source": [
    "# font = gr.themes.GoogleFont(\"Kiwi Maru\")\n",
    "# font = gr.themes.GoogleFont(\"Rampart One\")\n",
    "font = gr.themes.GoogleFont(\"DotGothic16\")\n",
    "theme = gr.themes.Ocean(font=font)\n",
    "\n",
    "with gr.Blocks(theme=theme) as app:\n",
    "    st_queue = gr.State(None)\n",
    "\n",
    "    # region define layout\n",
    "    with gr.Tabs(selected=0) as tabs:\n",
    "        with gr.Tab(label=\"設定\", id=0):\n",
    "            with gr.Group():\n",
    "                chk_kana = gr.CheckboxGroup([\"平假名\", \"片假名\"], value=[\"平假名\"], label=\"假名\")\n",
    "                chk_seion = gr.CheckboxGroup(category[\"seion\"], value=[\"a\"], label=\"清音\")\n",
    "                with gr.Row():\n",
    "                    chk_dakuon = gr.CheckboxGroup(category[\"dakuon\"], label=\"濁音\")\n",
    "                    chk_handakuon = gr.CheckboxGroup(category[\"handakuon\"], label=\"半濁音\")\n",
    "                chk_youon = gr.CheckboxGroup(category[\"youon\"], label=\"拗音\")\n",
    "\n",
    "            with gr.Row():\n",
    "                btn_select_all = gr.Button(\"全選\")\n",
    "                btn_select_none = gr.Button(\"全不選\")\n",
    "            btn_start = gr.Button(\"開始測驗\")\n",
    "\n",
    "        with gr.Tab(label=\"測驗\", id=1):\n",
    "            with gr.Group():\n",
    "                txt_test = gr.Textbox(label=\"題目\", interactive=False)\n",
    "                txt_input = gr.Textbox(label=\"作答\", submit_btn=True)\n",
    "\n",
    "    debug = gr.TextArea(label=\"Debug\", visible=False)\n",
    "    # endregion\n",
    "\n",
    "    # region register events\n",
    "    btn_start.click(\n",
    "        start_test,\n",
    "        [chk_kana, chk_seion, chk_dakuon, chk_handakuon, chk_youon],\n",
    "        [txt_test, st_queue, debug, tabs],\n",
    "        show_progress=\"hidden\",\n",
    "    )\n",
    "\n",
    "    txt_input.submit(\n",
    "        check_answer,\n",
    "        [txt_test, txt_input],\n",
    "        txt_input,\n",
    "        show_progress=\"hidden\",\n",
    "    ).then(\n",
    "        next_char,\n",
    "        st_queue,\n",
    "        [txt_test, st_queue, debug],\n",
    "        show_progress=\"hidden\",\n",
    "    )\n",
    "\n",
    "    btn_select_all.click(\n",
    "        select_all,\n",
    "        outputs=[chk_kana, chk_seion, chk_dakuon, chk_handakuon, chk_youon],\n",
    "        show_progress=\"hidden\",\n",
    "    )\n",
    "\n",
    "    btn_select_none.click(\n",
    "        select_none,\n",
    "        outputs=[chk_kana, chk_seion, chk_dakuon, chk_handakuon, chk_youon],\n",
    "        show_progress=\"hidden\",\n",
    "    )\n",
    "    # endregion\n",
    "\n",
    "    app.launch()"
   ]
  }
 ],
 "metadata": {
  "kernelspec": {
   "display_name": "Dev313",
   "language": "python",
   "name": "python3"
  },
  "language_info": {
   "codemirror_mode": {
    "name": "ipython",
    "version": 3
   },
   "file_extension": ".py",
   "mimetype": "text/x-python",
   "name": "python",
   "nbconvert_exporter": "python",
   "pygments_lexer": "ipython3",
   "version": "3.13.2"
  }
 },
 "nbformat": 4,
 "nbformat_minor": 5
}
