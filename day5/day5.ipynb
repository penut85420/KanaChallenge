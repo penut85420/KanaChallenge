{
 "cells": [
  {
   "cell_type": "markdown",
   "id": "58414e5e",
   "metadata": {},
   "source": [
    "下載相關資料的小魔法"
   ]
  },
  {
   "cell_type": "code",
   "execution_count": 16,
   "id": "c650a845",
   "metadata": {},
   "outputs": [
    {
     "name": "stderr",
     "output_type": "stream",
     "text": [
      "  % Total    % Received % Xferd  Average Speed   Time    Time     Time  Current\n",
      "                                 Dload  Upload   Total   Spent    Left  Speed\n",
      "\n",
      "  0     0    0     0    0     0      0      0 --:--:-- --:--:-- --:--:--     0\n",
      " 80  6881   80  5512    0     0   9261      0 --:--:-- --:--:-- --:--:--  9279\n",
      "100  6881  100  6881    0     0  11521      0 --:--:-- --:--:-- --:--:-- 11545\n"
     ]
    }
   ],
   "source": [
    "!curl \"https://gist.githubusercontent.com/penut85420/5b383ee875f66cfba70c46ad0e2dd21b/raw/fbd21d468add3ad99370e23ed9dcbf10aa7740c9/kana-spell.json\" -o \"kana-spell.json\""
   ]
  },
  {
   "cell_type": "markdown",
   "id": "97492446",
   "metadata": {},
   "source": [
    "匯入相關套件"
   ]
  },
  {
   "cell_type": "code",
   "execution_count": 17,
   "id": "58feb462",
   "metadata": {},
   "outputs": [],
   "source": [
    "# %pip install gradio -Uq\n",
    "import json\n",
    "import random\n",
    "\n",
    "import gradio as gr"
   ]
  },
  {
   "cell_type": "markdown",
   "id": "877756bc",
   "metadata": {},
   "source": [
    "準備資料"
   ]
  },
  {
   "cell_type": "code",
   "execution_count": 18,
   "id": "e14f4bf6",
   "metadata": {},
   "outputs": [],
   "source": [
    "def load_json(file_path):\n",
    "    with open(file_path, \"rt\", encoding=\"UTF-8\") as f:\n",
    "        return json.load(f)\n",
    "\n",
    "\n",
    "data = load_json(\"kana-spell.json\")\n",
    "\n",
    "hiragana = data[\"hiragana\"]\n",
    "katakana = data[\"katakana\"]\n",
    "category = data[\"category\"]\n",
    "spell = data[\"spell\"]"
   ]
  },
  {
   "cell_type": "markdown",
   "id": "38bf4943",
   "metadata": {},
   "source": [
    "開始測驗時選擇題目"
   ]
  },
  {
   "cell_type": "code",
   "execution_count": 19,
   "id": "c13464d4",
   "metadata": {},
   "outputs": [],
   "source": [
    "def start_test(kana, seion, dakuon, handakuon, yoon):\n",
    "    # seion 等參數會傳入像是 [\"a\", \"ka\"] 等列表\n",
    "    # 使用 * 將這些列表展開成一維列表\n",
    "    category = [*seion, *dakuon, *handakuon, *yoon]\n",
    "\n",
    "    # 從平假名或片假名資料中取出對應的假名，全部放在 char_list 裡面\n",
    "    char_list = list()\n",
    "    char_list += [ch for k in category for ch in hiragana[k]] if \"平假名\" in kana else []\n",
    "    char_list += [ch for k in category for ch in katakana[k]] if \"片假名\" in kana else []\n",
    "\n",
    "    # 如果 char_list 是空的，則拋出錯誤\n",
    "    if not char_list:\n",
    "        raise gr.Error(\"請至少選擇一個類別\")\n",
    "\n",
    "    # 隨機打亂 char_list 的順序\n",
    "    random.shuffle(char_list)\n",
    "\n",
    "    # 取出第一個假名\n",
    "    char = char_list.pop(0)\n",
    "\n",
    "    # 回傳 char 給 txt_test 用來顯示題目\n",
    "    # 第一個 char_list 回傳給 st_queue 用來紀錄題目狀態\n",
    "    # 第二個 char_list 回傳給 debug 用來檢查\n",
    "    # 回傳 gr.Tabs(selected=1) 來切換到測驗分頁\n",
    "    return char, char_list, char_list, gr.Tabs(selected=1)"
   ]
  },
  {
   "cell_type": "markdown",
   "id": "08399fc6",
   "metadata": {},
   "source": [
    "檢查作答是否正確"
   ]
  },
  {
   "cell_type": "code",
   "execution_count": 20,
   "id": "0fd5b83d",
   "metadata": {},
   "outputs": [],
   "source": [
    "def check_answer(txt_test, txt_input):\n",
    "    # 將輸入的拼音轉為小寫並去除前後空白\n",
    "    txt_input = str.lower(txt_input).strip()\n",
    "\n",
    "    # 如果 txt_input 符合任何一種拼音，則正確\n",
    "    if txt_input in spell[txt_test]:\n",
    "        gr.Info(\"正確！\")\n",
    "\n",
    "    # 如果拼音不正確，提示使用者正確的答案有哪些可能\n",
    "    else:\n",
    "        answer = \", \".join(spell[txt_test])\n",
    "        gr.Info(f\"錯誤，正確答案為 {answer}\")\n",
    "\n",
    "    # 回傳 None 來清空 txt_input 的內容\n",
    "    return None"
   ]
  },
  {
   "cell_type": "markdown",
   "id": "5dcf149e",
   "metadata": {},
   "source": [
    "顯示下一題"
   ]
  },
  {
   "cell_type": "code",
   "execution_count": 21,
   "id": "51cc50ee",
   "metadata": {},
   "outputs": [],
   "source": [
    "def next_char(st_queue):\n",
    "    # 若 st_queue 是空的，則顯示測驗結束的訊息\n",
    "    if not st_queue:\n",
    "        gr.Info(\"測驗結束！\")\n",
    "        return None, None, None\n",
    "\n",
    "    # 繼續從 st_queue 中取出下一個假名\n",
    "    char = list.pop(st_queue, 0)\n",
    "\n",
    "    # 分別回傳給 txt_test, st_queue, debug 等元件\n",
    "    return char, st_queue, st_queue"
   ]
  },
  {
   "cell_type": "markdown",
   "id": "d935820c",
   "metadata": {},
   "source": [
    "全選與全不選"
   ]
  },
  {
   "cell_type": "code",
   "execution_count": 22,
   "id": "508dc1e3",
   "metadata": {},
   "outputs": [],
   "source": [
    "def select_all():\n",
    "    return (\n",
    "        [\"平假名\", \"片假名\"],\n",
    "        category[\"seion\"],\n",
    "        category[\"dakuon\"],\n",
    "        category[\"handakuon\"],\n",
    "        category[\"youon\"],\n",
    "    )\n",
    "\n",
    "\n",
    "def select_none():\n",
    "    return [], [], [], [], []"
   ]
  },
  {
   "cell_type": "code",
   "execution_count": 23,
   "id": "a2b02fe9",
   "metadata": {},
   "outputs": [],
   "source": [
    "def reset():\n",
    "    return 0, 0, None"
   ]
  },
  {
   "cell_type": "code",
   "execution_count": null,
   "id": "11ec381a",
   "metadata": {},
   "outputs": [
    {
     "name": "stdout",
     "output_type": "stream",
     "text": [
      "* Running on local URL:  http://127.0.0.1:7866\n",
      "* To create a public link, set `share=True` in `launch()`.\n"
     ]
    },
    {
     "data": {
      "text/html": [
       "<div><iframe src=\"http://127.0.0.1:7866/\" width=\"100%\" height=\"500\" allow=\"autoplay; camera; microphone; clipboard-read; clipboard-write;\" frameborder=\"0\" allowfullscreen></iframe></div>"
      ],
      "text/plain": [
       "<IPython.core.display.HTML object>"
      ]
     },
     "metadata": {},
     "output_type": "display_data"
    },
    {
     "ename": "",
     "evalue": "",
     "output_type": "error",
     "traceback": [
      "\u001b[1;31mThe Kernel crashed while executing code in the current cell or a previous cell. \n",
      "\u001b[1;31mPlease review the code in the cell(s) to identify a possible cause of the failure. \n",
      "\u001b[1;31mClick <a href='https://aka.ms/vscodeJupyterKernelCrash'>here</a> for more info. \n",
      "\u001b[1;31mView Jupyter <a href='command:jupyter.viewOutput'>log</a> for further details."
     ]
    }
   ],
   "source": [
    "font = gr.themes.GoogleFont(\"Kiwi Maru\")\n",
    "theme = gr.themes.Ocean(font=font)\n",
    "\n",
    "with gr.Blocks(theme=theme) as app:\n",
    "    st_queue = gr.State(None)\n",
    "\n",
    "    # region define layout\n",
    "    with gr.Tabs(selected=0) as tabs:\n",
    "        with gr.Tab(label=\"設定\", id=0):\n",
    "            with gr.Group():\n",
    "                chk_kana = gr.CheckboxGroup([\"平假名\", \"片假名\"], value=[\"平假名\"], label=\"假名\")\n",
    "                chk_seion = gr.CheckboxGroup(category[\"seion\"], value=[\"a\"], label=\"清音\")\n",
    "                with gr.Row():\n",
    "                    chk_dakuon = gr.CheckboxGroup(category[\"dakuon\"], label=\"濁音\")\n",
    "                    chk_handakuon = gr.CheckboxGroup(category[\"handakuon\"], label=\"半濁音\")\n",
    "                chk_youon = gr.CheckboxGroup(category[\"youon\"], label=\"拗音\")\n",
    "\n",
    "            with gr.Row():\n",
    "                btn_select_all = gr.Button(\"全選\")\n",
    "                btn_select_none = gr.Button(\"全不選\")\n",
    "            btn_start = gr.Button(\"開始測驗\")\n",
    "\n",
    "        with gr.Tab(label=\"測驗\", id=1):\n",
    "            with gr.Group():\n",
    "                with gr.Row():\n",
    "                    txt_test = gr.Textbox(label=\"題目\", interactive=False)\n",
    "                    txt_status = gr.Textbox(label=\"狀態\", interactive=False)\n",
    "\n",
    "                txt_input = gr.Textbox(label=\"作答\", submit_btn=True)\n",
    "\n",
    "                with gr.Row():\n",
    "                    n_correct = gr.Number(label=\"答對題數 ✅\", value=0, interactive=False)\n",
    "                    n_total = gr.Number(label=\"總答題數 🧮\", value=0, interactive=False)\n",
    "\n",
    "        with gr.Tab(label=\"紀錄\", id=2):\n",
    "            txt_record = gr.TextArea(show_label=False, interactive=False)\n",
    "\n",
    "            with gr.Row():\n",
    "                btn_back_to_settings = gr.Button(\"回到設定 ⚙️\")\n",
    "                btn_again = gr.Button(\"再次測驗 🔄\")\n",
    "\n",
    "    debug = gr.TextArea(label=\"Debug\", visible=True)\n",
    "    # endregion\n",
    "\n",
    "    # region register events\n",
    "    btn_start.click(\n",
    "        start_test,\n",
    "        [chk_kana, chk_seion, chk_dakuon, chk_handakuon, chk_youon],\n",
    "        [txt_test, st_queue, debug, tabs],\n",
    "        show_progress=\"hidden\",\n",
    "    ).then(reset, outputs=[n_correct, n_total, txt_record])\n",
    "\n",
    "    txt_input.submit(\n",
    "        check_answer,\n",
    "        [txt_test, txt_input],\n",
    "        txt_input,\n",
    "        show_progress=\"hidden\",\n",
    "    ).then(\n",
    "        next_char,\n",
    "        st_queue,\n",
    "        [txt_test, st_queue, debug],\n",
    "        show_progress=\"hidden\",\n",
    "    )\n",
    "\n",
    "    btn_select_all.click(\n",
    "        select_all,\n",
    "        outputs=[chk_kana, chk_seion, chk_dakuon, chk_handakuon, chk_youon],\n",
    "        show_progress=\"hidden\",\n",
    "    )\n",
    "\n",
    "    btn_select_none.click(\n",
    "        select_none,\n",
    "        outputs=[chk_kana, chk_seion, chk_dakuon, chk_handakuon, chk_youon],\n",
    "        show_progress=\"hidden\",\n",
    "    )\n",
    "    # endregion\n",
    "\n",
    "    app.launch()"
   ]
  }
 ],
 "metadata": {
  "kernelspec": {
   "display_name": "Dev313",
   "language": "python",
   "name": "python3"
  },
  "language_info": {
   "codemirror_mode": {
    "name": "ipython",
    "version": 3
   },
   "file_extension": ".py",
   "mimetype": "text/x-python",
   "name": "python",
   "nbconvert_exporter": "python",
   "pygments_lexer": "ipython3",
   "version": "3.13.2"
  }
 },
 "nbformat": 4,
 "nbformat_minor": 5
}
