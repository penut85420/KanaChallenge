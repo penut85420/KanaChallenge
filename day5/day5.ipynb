{
  "cells": [
    {
      "cell_type": "markdown",
      "id": "58414e5e",
      "metadata": {},
      "source": [
        "下載相關資料的小魔法"
      ]
    },
    {
      "cell_type": "code",
      "execution_count": null,
      "id": "c650a845",
      "metadata": {},
      "outputs": [],
      "source": [
        "!curl \"https://gist.githubusercontent.com/penut85420/5b383ee875f66cfba70c46ad0e2dd21b/raw/fbd21d468add3ad99370e23ed9dcbf10aa7740c9/kana-spell.json\" -o \"kana-spell.json\""
      ]
    },
    {
      "cell_type": "markdown",
      "id": "97492446",
      "metadata": {},
      "source": [
        "匯入相關套件"
      ]
    },
    {
      "cell_type": "code",
      "execution_count": null,
      "id": "58feb462",
      "metadata": {},
      "outputs": [],
      "source": [
        "# %pip install gradio -Uq\n",
        "import json\n",
        "import random\n",
        "\n",
        "import gradio as gr"
      ]
    },
    {
      "cell_type": "markdown",
      "id": "877756bc",
      "metadata": {},
      "source": [
        "讀取 JSON 檔案"
      ]
    },
    {
      "cell_type": "code",
      "execution_count": null,
      "id": "ded68528",
      "metadata": {
        "id": "ded68528"
      },
      "outputs": [],
      "source": [
        "def load_json(file_path):\n",
        "    with open(file_path, \"rt\", encoding=\"UTF-8\") as fp:\n",
        "        return json.load(fp)\n",
        "\n",
        "\n",
        "data = load_json(\"kana-spell.json\")"
      ]
    },
    {
      "cell_type": "markdown",
      "id": "877756bc",
      "metadata": {},
      "source": [
        "準備資料"
      ]
    },
    {
      "cell_type": "code",
      "execution_count": null,
      "id": "e14f4bf6",
      "metadata": {},
      "outputs": [],
      "source": [
        "data = load_json(\"kana-spell.json\")\n",
        "\n",
        "hiragana = data[\"hiragana\"]\n",
        "katakana = data[\"katakana\"]\n",
        "category = data[\"category\"]\n",
        "spell = data[\"spell\"]"
      ]
    },
    {
      "cell_type": "markdown",
      "id": "38bf4943",
      "metadata": {},
      "source": [
        "開始測驗時選擇題目"
      ]
    },
    {
      "cell_type": "code",
      "execution_count": null,
      "id": "c13464d4",
      "metadata": {},
      "outputs": [],
      "source": [
        "def start_test(kana, seion, dakuon, handakuon, yoon):\n",
        "    # seion 等參數會傳入像是 [\"a\", \"ka\"] 等列表\n",
        "    # 使用 * 將這些列表展開成一維列表\n",
        "    category = [*seion, *dakuon, *handakuon, *yoon]\n",
        "\n",
        "    # 從平假名或片假名資料中取出對應的假名，全部放在 char_list 裡面\n",
        "    char_list = list()\n",
        "    char_list += [ch for k in category for ch in hiragana[k]] if \"平假名\" in kana else []\n",
        "    char_list += [ch for k in category for ch in katakana[k]] if \"片假名\" in kana else []\n",
        "\n",
        "    # 如果 char_list 是空的，則拋出錯誤\n",
        "    if not char_list:\n",
        "        raise gr.Error(\"請至少選擇一個類別\")\n",
        "\n",
        "    # 隨機打亂 char_list 的順序\n",
        "    random.shuffle(char_list)\n",
        "\n",
        "    # 取出第一個假名\n",
        "    char = char_list.pop(0)\n",
        "\n",
        "    # 回傳 char 給 txt_test 用來顯示題目\n",
        "    # 第一個 char_list 回傳給 st_queue 用來紀錄題目狀態\n",
        "    # 第二個 char_list 回傳給 debug 用來檢查\n",
        "    # 回傳 gr.Tabs(selected=1) 來切換到測驗分頁\n",
        "    return char, char_list, char_list, gr.Tabs(selected=1)"
      ]
    },
    {
      "cell_type": "markdown",
      "id": "08399fc6",
      "metadata": {},
      "source": [
        "檢查作答是否正確"
      ]
    },
    {
      "cell_type": "code",
      "execution_count": null,
      "id": "0fd5b83d",
      "metadata": {
        "id": "0fd5b83d"
      },
      "outputs": [],
      "source": [
        "def check_answer(txt_test, txt_input, n_correct, n_total, txt_records):\n",
        "    # 將輸入的拼音轉為小寫並去除前後空白\n",
        "    txt_input = str.lower(txt_input).strip()\n",
        "\n",
        "    # 如果 txt_input 符合任何一種拼音，則正確\n",
        "    if txt_input in spell[txt_test]:\n",
        "        n_correct += 1\n",
        "        txt_info = \"正確！\"\n",
        "\n",
        "    # 如果拼音不正確，提示使用者正確的答案有哪些可能\n",
        "    else:\n",
        "        answer = \", \".join(spell[txt_test])\n",
        "        txt_info = f\"錯誤，正確答案為 {answer}\"\n",
        "        txt_records += f\"題目：{txt_test}、正解：{answer}、輸入：{txt_input}\\n\"\n",
        "\n",
        "    n_total += 1\n",
        "    accuracy = n_correct / n_total\n",
        "\n",
        "    # 回傳 None 來清空 txt_input 的內容\n",
        "    return None, txt_info, n_correct, n_total, f\"{accuracy:.2%}\", txt_records"
      ]
    },
    {
      "cell_type": "markdown",
      "id": "5dcf149e",
      "metadata": {},
      "source": [
        "顯示下一題"
      ]
    },
    {
      "cell_type": "code",
      "execution_count": null,
      "id": "51cc50ee",
      "metadata": {},
      "outputs": [],
      "source": [
        "def next_char(st_queue, n_correct, n_total, txt_record):\n",
        "    # 若 st_queue 是空的，則顯示測驗結束的訊息\n",
        "    if not st_queue:\n",
        "        gr.Info(\"測驗結束！\")\n",
        "        accuracy = n_correct / n_total\n",
        "        txt_record += f\"正確率 {accuracy:.2%} ({n_correct}/{n_total})\"\n",
        "        return None, None, None, txt_record, gr.Tabs(selected=2)\n",
        "\n",
        "    # 繼續從 st_queue 中取出下一個假名\n",
        "    char = list.pop(st_queue, 0)\n",
        "\n",
        "    # 分別回傳給 txt_test, st_queue, debug 等元件\n",
        "    return char, st_queue, st_queue, txt_record, gr.Tabs(selected=1)"
      ]
    },
    {
      "cell_type": "markdown",
      "id": "d935820c",
      "metadata": {},
      "source": [
        "全選與全不選"
      ]
    },
    {
      "cell_type": "code",
      "execution_count": null,
      "id": "508dc1e3",
      "metadata": {},
      "outputs": [],
      "source": [
        "def select_all():\n",
        "    return (\n",
        "        [\"平假名\", \"片假名\"],\n",
        "        category[\"seion\"],\n",
        "        category[\"dakuon\"],\n",
        "        category[\"handakuon\"],\n",
        "        category[\"youon\"],\n",
        "    )\n",
        "\n",
        "\n",
        "def select_none():\n",
        "    return [], [], [], [], []"
      ]
    },
    {
      "cell_type": "code",
      "execution_count": null,
      "id": "a2b02fe9",
      "metadata": {},
      "outputs": [],
      "source": [
        "def reset():\n",
        "    return 0, 0, \"100.00%\", None, None\n",
        "\n",
        "\n",
        "def back():\n",
        "    return gr.Tabs(selected=0)"
      ]
    },
    {
      "cell_type": "code",
      "execution_count": null,
      "id": "11ec381a",
      "metadata": {},
      "outputs": [],
      "source": [
        "font = gr.themes.GoogleFont(\"Kiwi Maru\")\n",
        "theme = gr.themes.Ocean(font=font)\n",
        "\n",
        "with gr.Blocks(theme=theme) as app:\n",
        "    st_queue = gr.State(None)\n",
        "\n",
        "    # region define layout\n",
        "    with gr.Tabs(selected=0) as tabs:\n",
        "        with gr.Tab(label=\"設定\", id=0):\n",
        "            with gr.Group():\n",
        "                chk_kana = gr.CheckboxGroup([\"平假名\", \"片假名\"], value=[\"平假名\"], label=\"假名\")\n",
        "                chk_seion = gr.CheckboxGroup(category[\"seion\"], value=[\"a\"], label=\"清音\")\n",
        "                with gr.Row():\n",
        "                    chk_dakuon = gr.CheckboxGroup(category[\"dakuon\"], label=\"濁音\")\n",
        "                    chk_handakuon = gr.CheckboxGroup(category[\"handakuon\"], label=\"半濁音\")\n",
        "                chk_youon = gr.CheckboxGroup(category[\"youon\"], label=\"拗音\")\n",
        "\n",
        "            with gr.Row():\n",
        "                btn_select_all = gr.Button(\"全選\")\n",
        "                btn_select_none = gr.Button(\"全不選\")\n",
        "            btn_start = gr.Button(\"開始測驗\")\n",
        "\n",
        "        with gr.Tab(label=\"測驗\", id=1):\n",
        "            with gr.Group():\n",
        "                with gr.Row():\n",
        "                    txt_test = gr.Textbox(label=\"題目\", interactive=False)\n",
        "                    txt_info = gr.Textbox(label=\"資訊\", interactive=False)\n",
        "\n",
        "                txt_input = gr.Textbox(label=\"作答\", submit_btn=True)\n",
        "\n",
        "                with gr.Row():\n",
        "                    n_correct = gr.Number(label=\"答對題數\", interactive=False)\n",
        "                    n_total = gr.Number(label=\"總答題數\", interactive=False)\n",
        "                    txt_accuracy = gr.Text(\"100.00%\", label=\"答對比率\", interactive=False)\n",
        "\n",
        "        with gr.Tab(label=\"紀錄\", id=2):\n",
        "            txt_records = gr.TextArea(show_label=False, interactive=False)\n",
        "            btn_again = gr.Button(\"再次測驗\")\n",
        "            btn_back = gr.Button(\"回到設定\")\n",
        "\n",
        "    debug = gr.TextArea(label=\"Debug\", visible=False)\n",
        "    # endregion\n",
        "\n",
        "    # region register events\n",
        "    btn_start.click(\n",
        "        reset,\n",
        "        outputs=[n_correct, n_total, txt_accuracy, txt_info, txt_records],\n",
        "        show_progress=\"hidden\",\n",
        "    ).then(\n",
        "        start_test,\n",
        "        [chk_kana, chk_seion, chk_dakuon, chk_handakuon, chk_youon],\n",
        "        [txt_test, st_queue, debug, tabs],\n",
        "        show_progress=\"hidden\",\n",
        "    )\n",
        "\n",
        "    txt_input.submit(\n",
        "        check_answer,\n",
        "        [txt_test, txt_input, n_correct, n_total, txt_records],\n",
        "        [txt_input, txt_info, n_correct, n_total, txt_accuracy, txt_records],\n",
        "        show_progress=\"hidden\",\n",
        "    ).then(\n",
        "        next_char,\n",
        "        [st_queue, n_correct, n_total, txt_records],\n",
        "        [txt_test, st_queue, debug, txt_records, tabs],\n",
        "        show_progress=\"hidden\",\n",
        "    )\n",
        "\n",
        "    btn_select_all.click(\n",
        "        select_all,\n",
        "        outputs=[chk_kana, chk_seion, chk_dakuon, chk_handakuon, chk_youon],\n",
        "        show_progress=\"hidden\",\n",
        "    )\n",
        "\n",
        "    btn_select_none.click(\n",
        "        select_none,\n",
        "        outputs=[chk_kana, chk_seion, chk_dakuon, chk_handakuon, chk_youon],\n",
        "        show_progress=\"hidden\",\n",
        "    )\n",
        "\n",
        "    btn_again.click(\n",
        "        reset,\n",
        "        outputs=[n_correct, n_total, txt_accuracy, txt_info, txt_records],\n",
        "        show_progress=\"hidden\",\n",
        "    ).then(\n",
        "        start_test,\n",
        "        [chk_kana, chk_seion, chk_dakuon, chk_handakuon, chk_youon],\n",
        "        [txt_test, st_queue, debug, tabs],\n",
        "        show_progress=\"hidden\",\n",
        "    )\n",
        "\n",
        "    btn_back.click(back, outputs=tabs, show_progress=\"hidden\")\n",
        "    # endregion\n",
        "\n",
        "    app.launch(height=700)"
      ]
    },
    {
      "cell_type": "markdown",
      "id": "a2d6d9a9",
      "metadata": {},
      "source": [
        "重構版本"
      ]
    },
    {
      "cell_type": "code",
      "execution_count": null,
      "id": "19e8daa2",
      "metadata": {},
      "outputs": [],
      "source": [
        "def gr_args(fn=None, inputs=None, outputs=None, show_progress=\"hidden\", **kwargs):\n",
        "    return dict(fn=fn, inputs=inputs, outputs=outputs, show_progress=show_progress, **kwargs)"
      ]
    },
    {
      "cell_type": "code",
      "execution_count": null,
      "id": "aa0f4f7b",
      "metadata": {},
      "outputs": [],
      "source": [
        "font = gr.themes.GoogleFont(\"Kiwi Maru\")\n",
        "theme = gr.themes.Ocean(font=font)\n",
        "\n",
        "with gr.Blocks(theme=theme) as app:\n",
        "    st_queue = gr.State(None)\n",
        "\n",
        "    # region define layout\n",
        "    with gr.Tabs(selected=0) as tabs:\n",
        "        with gr.Tab(label=\"設定\", id=0):\n",
        "            with gr.Group():\n",
        "                chk_kana = gr.CheckboxGroup([\"平假名\", \"片假名\"], value=[\"平假名\"], label=\"假名\")\n",
        "                chk_seion = gr.CheckboxGroup(category[\"seion\"], value=[\"a\"], label=\"清音\")\n",
        "                with gr.Row():\n",
        "                    chk_dakuon = gr.CheckboxGroup(category[\"dakuon\"], label=\"濁音\")\n",
        "                    chk_handakuon = gr.CheckboxGroup(category[\"handakuon\"], label=\"半濁音\")\n",
        "                chk_youon = gr.CheckboxGroup(category[\"youon\"], label=\"拗音\")\n",
        "\n",
        "            with gr.Row():\n",
        "                btn_select_all = gr.Button(\"全選\")\n",
        "                btn_select_none = gr.Button(\"全不選\")\n",
        "            btn_start = gr.Button(\"開始測驗\")\n",
        "\n",
        "        with gr.Tab(label=\"測驗\", id=1):\n",
        "            with gr.Group():\n",
        "                with gr.Row():\n",
        "                    txt_test = gr.Textbox(label=\"題目\", interactive=False)\n",
        "                    txt_info = gr.Textbox(label=\"資訊\", interactive=False)\n",
        "\n",
        "                txt_input = gr.Textbox(label=\"作答\", submit_btn=True)\n",
        "\n",
        "                with gr.Row():\n",
        "                    n_correct = gr.Number(label=\"答對題數\", interactive=False)\n",
        "                    n_total = gr.Number(label=\"總答題數\", interactive=False)\n",
        "                    txt_accuracy = gr.Text(\"100.00%\", label=\"答對比率\", interactive=False)\n",
        "\n",
        "        with gr.Tab(label=\"紀錄\", id=2):\n",
        "            txt_records = gr.TextArea(show_label=False, interactive=False)\n",
        "            btn_again = gr.Button(\"再次測驗\")\n",
        "            btn_back = gr.Button(\"回到設定\")\n",
        "\n",
        "    debug = gr.TextArea(label=\"Debug\", visible=False)\n",
        "    # endregion\n",
        "\n",
        "    # region define arguments\n",
        "    reset_outputs = [n_correct, n_total, txt_accuracy, txt_info, txt_records]\n",
        "    reset_args = gr_args(reset, outputs=reset_outputs)\n",
        "\n",
        "    start_inputs = [chk_kana, chk_seion, chk_dakuon, chk_handakuon, chk_youon]\n",
        "    start_outputs = [txt_test, st_queue, debug, tabs]\n",
        "    start_args = gr_args(start_test, start_inputs, start_outputs)\n",
        "\n",
        "    check_inputs = [txt_test, txt_input, n_correct, n_total, txt_records]\n",
        "    check_outputs = [txt_input, txt_info, n_correct, n_total, txt_accuracy, txt_records]\n",
        "    check_args = gr_args(check_answer, check_inputs, check_outputs)\n",
        "\n",
        "    next_inputs = [st_queue, n_correct, n_total, txt_records]\n",
        "    next_outputs = [txt_test, st_queue, debug, txt_records, tabs]\n",
        "    next_args = gr_args(next_char, next_inputs, next_outputs)\n",
        "\n",
        "    select_all_outputs = [chk_kana, chk_seion, chk_dakuon, chk_handakuon, chk_youon]\n",
        "    select_all_args = gr_args(select_all, outputs=select_all_outputs)\n",
        "\n",
        "    select_none_outputs = [chk_kana, chk_seion, chk_dakuon, chk_handakuon, chk_youon]\n",
        "    select_none_args = gr_args(select_none, outputs=select_none_outputs)\n",
        "\n",
        "    back_args = gr_args(back, outputs=tabs)\n",
        "    # endregion\n",
        "\n",
        "    # region register events\n",
        "    btn_start.click(**reset_args).then(start_args)\n",
        "    txt_input.submit(**check_args).then(**next_args)\n",
        "    btn_select_all.click(**select_all_args)\n",
        "    btn_select_none.click(**select_none_args)\n",
        "    btn_again.click(**reset_args).then(**start_args)\n",
        "    btn_back.click(**back_args)\n",
        "    # endregion\n",
        "\n",
        "    app.launch(height=700)"
      ]
    }
  ],
  "metadata": {
    "kernelspec": {
      "display_name": "Dev313",
      "language": "python",
      "name": "python3"
    },
    "language_info": {
      "codemirror_mode": {
        "name": "ipython",
        "version": 3
      },
      "file_extension": ".py",
      "mimetype": "text/x-python",
      "name": "python",
      "nbconvert_exporter": "python",
      "pygments_lexer": "ipython3",
      "version": "3.13.2"
    }
  },
  "nbformat": 4,
  "nbformat_minor": 5
}
