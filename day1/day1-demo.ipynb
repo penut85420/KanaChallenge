{
  "cells": [
    {
      "cell_type": "markdown",
      "metadata": {
        "id": "O6-HFMTQlETJ"
      },
      "source": [
        "### 安裝 Gradio 套件\n",
        "\n",
        "Colab 不會永久保存安裝的套件\n",
        "\n",
        "所以每次重開 Colab 都要執行一次"
      ]
    },
    {
      "cell_type": "code",
      "execution_count": null,
      "metadata": {
        "collapsed": true,
        "id": "nibWt6__uait"
      },
      "outputs": [],
      "source": [
        "%pip install gradio"
      ]
    },
    {
      "cell_type": "markdown",
      "metadata": {
        "id": "qT5Cw_sDlKig"
      },
      "source": [
        "### 撰寫打招呼函式"
      ]
    },
    {
      "cell_type": "code",
      "execution_count": null,
      "metadata": {
        "colab": {
          "base_uri": "https://localhost:8080/"
        },
        "id": "1Gqg-2ibfQgZ",
        "outputId": "402106bd-af58-431b-934b-f3a34d9db166"
      },
      "outputs": [],
      "source": [
        "def greet(name, n):\n",
        "    return \"你好，\" + name + \"！\" * n\n",
        "\n",
        "print(greet(\"花生\", 3))\n",
        "print(greet(\"土豆\", 5))"
      ]
    },
    {
      "cell_type": "markdown",
      "metadata": {
        "id": "W0t7n3bAlOzE"
      },
      "source": [
        "### 透過 Gradio 呈現圖形化介面"
      ]
    },
    {
      "cell_type": "code",
      "execution_count": null,
      "metadata": {
        "colab": {
          "base_uri": "https://localhost:8080/",
          "height": 645
        },
        "id": "qimhbpWKNRNk",
        "outputId": "6a4573e0-5a15-4e7f-927f-cdf0b727140d"
      },
      "outputs": [],
      "source": [
        "import gradio as gr\n",
        "\n",
        "demo = gr.Interface(\n",
        "    fn=greet,\n",
        "    inputs=[\"text\", \"slider\"],\n",
        "    outputs=[\"text\"],\n",
        ")\n",
        "demo.launch()"
      ]
    },
    {
      "cell_type": "markdown",
      "metadata": {
        "id": "XmQ6ktlhl6hn"
      },
      "source": [
        "### 大小寫轉換 (Checkbox)"
      ]
    },
    {
      "cell_type": "code",
      "execution_count": null,
      "metadata": {
        "id": "rrnllLFmXL1l"
      },
      "outputs": [],
      "source": [
        "def proc_str(query, is_lower):\n",
        "    if is_lower:\n",
        "        return query.lower()\n",
        "    return query.upper()\n",
        "\n",
        "gr.Interface(\n",
        "    fn=proc_str,\n",
        "    inputs=[\"text\", \"checkbox\"],\n",
        "    outputs=\"text\"\n",
        ").launch()"
      ]
    },
    {
      "cell_type": "markdown",
      "metadata": {
        "id": "jwhz5gaMmZR0"
      },
      "source": [
        "### 灰階圖片轉換 (Image)"
      ]
    },
    {
      "cell_type": "code",
      "execution_count": null,
      "metadata": {
        "id": "6yMrQY06PbXg"
      },
      "outputs": [],
      "source": [
        "import numpy as np\n",
        "\n",
        "def gray_image(img):\n",
        "    img = np.dot(img[..., :3], [0.2989, 0.5870, 0.1140])\n",
        "    return img.astype(np.uint8)\n",
        "\n",
        "gr.Interface(fn=gray_image, inputs=\"image\", outputs=\"image\").launch()"
      ]
    },
    {
      "cell_type": "markdown",
      "metadata": {
        "id": "a8-N8TotmjfF"
      },
      "source": [
        "### 展示新聞連結 (Markdown)\n",
        "\n",
        "透過 `examples` 參數，可以提供使用者範例"
      ]
    },
    {
      "cell_type": "code",
      "execution_count": null,
      "metadata": {
        "id": "Y7yHKnW1VDjR"
      },
      "outputs": [],
      "source": [
        "def to_markdown(header, title, url):\n",
        "    return f\"# {header}\\n[{title}]({url})\"\n",
        "\n",
        "gr.Interface(\n",
        "    fn=to_markdown,\n",
        "    inputs=[\"text\", \"text\", \"text\"],\n",
        "    outputs=\"markdown\",\n",
        "    examples=[\n",
        "        [\"最新消息\", \"Google 開源野生動物辨識 AI 模型\", \"https://www.ithome.com.tw/news/167673\"],\n",
        "        [\"新聞快報\", \"Google 針對 Pixel 手機發表 AI 詐騙偵測功能\", \"https://www.ithome.com.tw/news/167668\"],\n",
        "    ]\n",
        ").launch()"
      ]
    },
    {
      "cell_type": "markdown",
      "metadata": {
        "id": "JUZhIR6ynImJ"
      },
      "source": [
        "### BMI 計算器 (Number)\n",
        "\n",
        "輸入框的標籤與函式的參數名稱綁定\n",
        "\n",
        "其實 Python 是可以用中文當變數名稱的（？"
      ]
    },
    {
      "cell_type": "code",
      "execution_count": null,
      "metadata": {
        "id": "fkicRmvpDU23"
      },
      "outputs": [],
      "source": [
        "def calc_bmi(身高, 體重):\n",
        "    身高 = 身高 / 100 if 身高 > 3 else 身高\n",
        "    return 體重 / 身高 ** 2\n",
        "\n",
        "gr.Interface(\n",
        "    fn=calc_bmi,\n",
        "    inputs=[\"number\", \"number\"],\n",
        "    outputs=gr.Number(label=\"BMI\"),\n",
        ").launch(debug=True)"
      ]
    },
    {
      "cell_type": "markdown",
      "metadata": {
        "id": "dnJXH2v7nnWT"
      },
      "source": [
        "### 檔案大小計算器 (File)"
      ]
    },
    {
      "cell_type": "code",
      "execution_count": null,
      "metadata": {
        "id": "hcjg28WsOoek"
      },
      "outputs": [],
      "source": [
        "def calc_file_size(file):\n",
        "    with open(file, \"rb\") as fp:\n",
        "        return len(fp.read())\n",
        "\n",
        "gr.Interface(\n",
        "    fn=calc_file_size,\n",
        "    inputs=\"file\",\n",
        "    outputs=\"text\",\n",
        ").launch()"
      ]
    },
    {
      "cell_type": "markdown",
      "metadata": {
        "id": "AS79n6auob-X"
      },
      "source": [
        "### 自由發揮時間！\n",
        "\n",
        "可以透過 ChatGPT 或右上角的 Gemini 來幫你寫程式"
      ]
    },
    {
      "cell_type": "code",
      "execution_count": null,
      "metadata": {
        "id": "52LBlEoMn8sE"
      },
      "outputs": [],
      "source": [
        "# Prompt: Gradio Interface 質因數分解\n",
        "\n",
        "import gradio as gr\n",
        "import math\n",
        "\n",
        "def prime_factorization(num):\n",
        "    factors = []\n",
        "    d = 2\n",
        "    while d * d <= num:\n",
        "        if num % d == 0:\n",
        "            factors.append(d)\n",
        "            num //= d\n",
        "        else:\n",
        "            d += 1\n",
        "    if num > 1:\n",
        "        factors.append(num)\n",
        "    return factors\n",
        "\n",
        "iface = gr.Interface(\n",
        "    fn=prime_factorization,\n",
        "    inputs=gr.Number(label=\"輸入一個數字\"),\n",
        "    outputs=gr.Textbox(label=\"質因數分解結果\"),\n",
        "    title=\"質因數分解器\",\n",
        "    description=\"輸入一個正整數，計算其質因數分解。\"\n",
        ")\n",
        "\n",
        "iface.launch()"
      ]
    },
    {
      "cell_type": "markdown",
      "metadata": {
        "id": "HT7kafmXqs7d"
      },
      "source": [
        "### Gradio Blocks"
      ]
    },
    {
      "cell_type": "code",
      "execution_count": null,
      "metadata": {
        "id": "aoeJx6BjdX17"
      },
      "outputs": [],
      "source": [
        "with gr.Blocks() as app:\n",
        "    name_text = gr.Textbox(label=\"名字\")\n",
        "    greet_btn = gr.Button(\"問候\")\n",
        "    farewell_btn = gr.Button(\"道別\")\n",
        "    message = gr.Textbox(label=\"訊息\")\n",
        "\n",
        "    def greet_fn(name):\n",
        "        return f\"{name}，你好！\"\n",
        "\n",
        "    def farewell_fn(name):\n",
        "        return f\"{name}，再見！\"\n",
        "\n",
        "    greet_btn.click(greet_fn, name_text, message)\n",
        "    farewell_btn.click(farewell_fn, name_text, message)\n",
        "\n",
        "app.launch()"
      ]
    },
    {
      "cell_type": "markdown",
      "metadata": {
        "id": "uzzIvfB4qwQp"
      },
      "source": [
        "### Gradio Row\n",
        "\n",
        "透過 `gr.Row()` 將兩個按鈕放在水平同一排"
      ]
    },
    {
      "cell_type": "code",
      "execution_count": null,
      "metadata": {
        "id": "0ewB17s0qyM6"
      },
      "outputs": [],
      "source": [
        "with gr.Blocks() as app:\n",
        "    name_text = gr.Textbox(label=\"名字\")\n",
        "    with gr.Row():\n",
        "        greet_btn = gr.Button(\"問候\")\n",
        "        farewell_btn = gr.Button(\"道別\")\n",
        "    message = gr.Textbox(label=\"訊息\")\n",
        "\n",
        "    def greet_fn(name):\n",
        "        return f\"{name}，你好！\"\n",
        "\n",
        "    def farewell_fn(name):\n",
        "        return f\"{name}，再見！\"\n",
        "\n",
        "    greet_btn.click(greet_fn, name_text, message)\n",
        "    farewell_btn.click(farewell_fn, name_text, message)\n",
        "\n",
        "app.launch()"
      ]
    },
    {
      "cell_type": "markdown",
      "metadata": {
        "id": "BHS7G_FMrCtQ"
      },
      "source": [
        "`gr.Row()` 將元件整理在同一橫排"
      ]
    },
    {
      "cell_type": "code",
      "execution_count": null,
      "metadata": {
        "id": "7iu_Y0jUrB9b"
      },
      "outputs": [],
      "source": [
        "with gr.Blocks() as app:\n",
        "    with gr.Row():\n",
        "        gr.Button(\"A\")\n",
        "        gr.Button(\"B\")\n",
        "        gr.Button(\"C\")\n",
        "        gr.Button(\"D\")\n",
        "        gr.Button(\"E\")\n",
        "\n",
        "app.launch()"
      ]
    },
    {
      "cell_type": "markdown",
      "metadata": {
        "id": "sZseKlEzrH28"
      },
      "source": [
        "`gr.Column()` 將元件放在同一直欄"
      ]
    },
    {
      "cell_type": "code",
      "execution_count": null,
      "metadata": {
        "id": "dHnFJCjVrGbk"
      },
      "outputs": [],
      "source": [
        "with gr.Blocks() as app:\n",
        "    with gr.Row():\n",
        "        gr.Button(\"A\")\n",
        "        gr.Button(\"B\")\n",
        "        with gr.Column():\n",
        "            gr.Button(\"C\")\n",
        "            gr.Button(\"D\")\n",
        "            gr.Button(\"E\")\n",
        "\n",
        "app.launch()"
      ]
    },
    {
      "cell_type": "markdown",
      "metadata": {
        "id": "k8KtNUimrSOU"
      },
      "source": [
        "`gr.Group()` 將元件放在同個群組裡面，彼此之間沒有間隙"
      ]
    },
    {
      "cell_type": "code",
      "execution_count": null,
      "metadata": {
        "id": "z_PiDUOKrRko"
      },
      "outputs": [],
      "source": [
        "with gr.Blocks() as app:\n",
        "    with gr.Row():\n",
        "        gr.Button(\"A\")\n",
        "        gr.Button(\"B\")\n",
        "        with gr.Group():\n",
        "            gr.Button(\"C\")\n",
        "            gr.Button(\"D\")\n",
        "            gr.Button(\"E\")\n",
        "\n",
        "app.launch()"
      ]
    }
  ],
  "metadata": {
    "colab": {
      "provenance": []
    },
    "kernelspec": {
      "display_name": "Python 3",
      "name": "python3"
    },
    "language_info": {
      "name": "python"
    }
  },
  "nbformat": 4,
  "nbformat_minor": 0
}
