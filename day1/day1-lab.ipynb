{
  "cells": [
    {
      "cell_type": "markdown",
      "id": "8a1d0071",
      "metadata": {
        "id": "8a1d0071"
      },
      "source": [
        "### 安裝 Gradio 套件"
      ]
    },
    {
      "cell_type": "code",
      "execution_count": null,
      "id": "82c17215-0e4d-4937-a63c-edf900600df0",
      "metadata": {
        "id": "82c17215-0e4d-4937-a63c-edf900600df0"
      },
      "outputs": [],
      "source": [
        "%pip install gradio -Uq\n",
        "import gradio as gr"
      ]
    },
    {
      "cell_type": "markdown",
      "id": "c369db2e",
      "metadata": {
        "id": "c369db2e"
      },
      "source": [
        "### 攝氏華氏溫度轉換"
      ]
    },
    {
      "cell_type": "code",
      "execution_count": null,
      "id": "53581e5a",
      "metadata": {
        "id": "53581e5a"
      },
      "outputs": [],
      "source": [
        "def conv_temp(temperature, is_celsius):\n",
        "    if is_celsius:\n",
        "        converted = temperature * 9 / 5 + 32\n",
        "        return f\"{temperature}°C = {converted:.2f}°F\"\n",
        "    else:\n",
        "        converted = (temperature - 32) * 5 / 9\n",
        "        return f\"{temperature}°F = {converted:.2f}°C\"\n",
        "\n",
        "\n",
        "gr.Interface(fn=conv_temp, inputs=[\"number\", \"checkbox\"], outputs=\"text\").launch()"
      ]
    },
    {
      "cell_type": "markdown",
      "id": "1e0b5d00",
      "metadata": {
        "id": "1e0b5d00"
      },
      "source": [
        "### 質因數分解"
      ]
    },
    {
      "cell_type": "code",
      "execution_count": null,
      "id": "d3872aed",
      "metadata": {
        "id": "d3872aed"
      },
      "outputs": [],
      "source": [
        "def prime_factors(n):\n",
        "    i = 2\n",
        "    factors = []\n",
        "    while i * i <= n:\n",
        "        while n % i == 0:\n",
        "            factors.append(i)\n",
        "            n //= i\n",
        "        i += 1\n",
        "    if n > 1:\n",
        "        factors.append(n)\n",
        "    return \" * \".join(map(str, factors))\n",
        "\n",
        "\n",
        "gr.Interface(\n",
        "    fn=prime_factors,\n",
        "    inputs=\"number\",\n",
        "    outputs=\"text\",\n",
        ").launch()"
      ]
    },
    {
      "cell_type": "markdown",
      "id": "8a50b51a",
      "metadata": {
        "id": "8a50b51a"
      },
      "source": [
        "### 字串反轉"
      ]
    },
    {
      "cell_type": "code",
      "execution_count": null,
      "id": "7a5cf273",
      "metadata": {
        "id": "7a5cf273"
      },
      "outputs": [],
      "source": [
        "def reverse_string(text):\n",
        "    return text[::-1]\n",
        "\n",
        "\n",
        "gr.Interface(fn=reverse_string, inputs=\"text\", outputs=\"text\").launch()"
      ]
    },
    {
      "cell_type": "markdown",
      "id": "a8972134",
      "metadata": {
        "id": "a8972134"
      },
      "source": [
        "### 雜湊加密"
      ]
    },
    {
      "cell_type": "code",
      "execution_count": null,
      "id": "f2d522f6",
      "metadata": {
        "id": "f2d522f6"
      },
      "outputs": [],
      "source": [
        "import hashlib\n",
        "\n",
        "\n",
        "def hash_text(text):\n",
        "    return hashlib.sha256(str.encode(text)).hexdigest()\n",
        "\n",
        "\n",
        "gr.Interface(\n",
        "    fn=hash_text,\n",
        "    inputs=\"text\",\n",
        "    outputs=\"text\",\n",
        "    examples=[\n",
        "        [\"啊哼啊嗯哼哼哼哼哼嗯嗯嗯啊哼哼\"],\n",
        "        [\"嗯啊嗯啊啊啊嗯哼嗯嗯嗯哼啊哼啊啊\"],\n",
        "        [\"嗯啊嗯哼啊啊嗯啊哼啊哼哼啊啊啊哼啊\"],\n",
        "        [\"哼嗯哼啊啊嗯嗯哼哼嗯嗯嗯嗯嗯哼啊哼\"],\n",
        "        [\"哼啊嗯哼哼啊啊啊啊啊哼哼啊嗯啊哼啊\"],\n",
        "    ],\n",
        ").launch()"
      ]
    },
    {
      "cell_type": "markdown",
      "id": "0760d4f9",
      "metadata": {
        "id": "0760d4f9"
      },
      "source": [
        "### 密碼產生器"
      ]
    },
    {
      "cell_type": "code",
      "execution_count": null,
      "id": "81428411",
      "metadata": {
        "id": "81428411"
      },
      "outputs": [],
      "source": [
        "import string\n",
        "import random\n",
        "\n",
        "\n",
        "def gen_pwd(n, use_upper, use_lower, use_digit, use_symbol):\n",
        "    candidate = \"\"\n",
        "    if use_upper:\n",
        "        candidate += string.ascii_uppercase\n",
        "    if use_lower:\n",
        "        candidate += string.ascii_lowercase\n",
        "    if use_digit:\n",
        "        candidate += string.digits\n",
        "    if use_symbol:\n",
        "        candidate += string.punctuation\n",
        "\n",
        "    return \"\".join([random.choice(candidate) for _ in range(n)])\n",
        "\n",
        "\n",
        "gr.Interface(\n",
        "    fn=gen_pwd,\n",
        "    inputs=[\"number\", \"checkbox\", \"checkbox\", \"checkbox\", \"checkbox\"],\n",
        "    outputs=\"text\",\n",
        ").launch()"
      ]
    },
    {
      "cell_type": "markdown",
      "id": "3b890cff",
      "metadata": {
        "id": "3b890cff"
      },
      "source": [
        "### QRCode 產生器"
      ]
    },
    {
      "cell_type": "code",
      "execution_count": null,
      "id": "a4e7ab2c",
      "metadata": {
        "id": "a4e7ab2c"
      },
      "outputs": [],
      "source": [
        "# %pip install qrcode\n",
        "import qrcode\n",
        "\n",
        "\n",
        "def generate_qr(text):\n",
        "    return qrcode.make(text).convert(\"RGB\")\n",
        "\n",
        "\n",
        "gr.Interface(fn=generate_qr, inputs=\"text\", outputs=\"image\").launch()"
      ]
    },
    {
      "cell_type": "markdown",
      "id": "f747a0ef",
      "metadata": {
        "id": "f747a0ef"
      },
      "source": [
        "### 猜數字遊戲"
      ]
    },
    {
      "cell_type": "code",
      "execution_count": null,
      "id": "0122f88a",
      "metadata": {
        "colab": {
          "base_uri": "https://localhost:8080/",
          "height": 630
        },
        "id": "0122f88a",
        "outputId": "7b05a795-4180-4bb9-c8a9-217ae37a6b26"
      },
      "outputs": [],
      "source": [
        "import random\n",
        "\n",
        "with gr.Blocks() as app:\n",
        "    answer = random.randint(1, 99)\n",
        "    upper = 100\n",
        "    lower = 0\n",
        "\n",
        "    info = gr.Textbox(f\"{lower} 到 {upper} 猜一個數字\")\n",
        "    guess = gr.Number(\"猜數字\")\n",
        "\n",
        "    def guess_fn(number):\n",
        "        global upper, lower, answer\n",
        "\n",
        "        if number == answer:\n",
        "            msg = f\"🎉 答對了，答案是 {answer}\"\n",
        "            answer = random.randint(1, 99)\n",
        "            upper = 100\n",
        "            lower = 0\n",
        "            return msg\n",
        "\n",
        "        if number < answer:\n",
        "            lower = number\n",
        "            return f\"⬆️ 太小了，{lower} 到 {upper} 猜一個數字\"\n",
        "\n",
        "        if number > answer:\n",
        "            upper = number\n",
        "            return f\"⬇️ 太大了，{lower} 到 {upper} 猜一個數字\"\n",
        "\n",
        "    guess.submit(guess_fn, guess, info)\n",
        "\n",
        "app.launch()"
      ]
    }
  ],
  "metadata": {
    "colab": {
      "provenance": []
    },
    "kernelspec": {
      "display_name": "Dev313",
      "language": "python",
      "name": "python3"
    },
    "language_info": {
      "codemirror_mode": {
        "name": "ipython",
        "version": 3
      },
      "file_extension": ".py",
      "mimetype": "text/x-python",
      "name": "python",
      "nbconvert_exporter": "python",
      "pygments_lexer": "ipython3",
      "version": "3.13.2"
    }
  },
  "nbformat": 4,
  "nbformat_minor": 5
}
