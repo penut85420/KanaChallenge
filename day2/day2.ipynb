{
 "cells": [
  {
   "cell_type": "code",
   "execution_count": null,
   "metadata": {},
   "outputs": [],
   "source": [
    "# %pip install -Uq gradio\n",
    "import gradio as gr"
   ]
  },
  {
   "cell_type": "code",
   "execution_count": null,
   "metadata": {},
   "outputs": [],
   "source": [
    "def greet_fn(name):\n",
    "    return f\"{name}，你好！\"\n",
    "\n",
    "def farewell_fn(name):\n",
    "    return f\"{name}，再見！\""
   ]
  },
  {
   "cell_type": "code",
   "execution_count": null,
   "metadata": {},
   "outputs": [],
   "source": [
    "with gr.Blocks() as app:\n",
    "    name_text = gr.Textbox(label=\"名字\")\n",
    "    greet_btn = gr.Button(\"問候\")\n",
    "    farewell_btn = gr.Button(\"道別\")\n",
    "    message = gr.Textbox(label=\"訊息\")\n",
    "\n",
    "    greet_btn.click(greet_fn, name_text, message)\n",
    "    farewell_btn.click(farewell_fn, name_text, message)\n",
    "\n",
    "app.launch()"
   ]
  },
  {
   "cell_type": "code",
   "execution_count": null,
   "metadata": {},
   "outputs": [],
   "source": [
    "# 這是用來下載圖片的小魔法\n",
    "!curl \"https://i.imgur.com/vJGYfMA.png\" -o \"cherry-blossom.png\"\n",
    "!curl \"https://i.imgur.com/3Q0jz81.png\" -o \"tree.png\""
   ]
  },
  {
   "cell_type": "code",
   "execution_count": null,
   "metadata": {},
   "outputs": [],
   "source": [
    "def greet_fn2(name, n):\n",
    "    return f\"{name}，你好\" + \"！\" * n\n",
    "\n",
    "\n",
    "def farewell_fn2(name, n):\n",
    "    return f\"{name}，再見\" + \"！\" * n"
   ]
  },
  {
   "cell_type": "code",
   "execution_count": null,
   "metadata": {},
   "outputs": [],
   "source": [
    "with gr.Blocks() as app:\n",
    "    name_text = gr.Textbox(label=\"😀 名字\", placeholder=\"請輸入名字\")\n",
    "    num_length = gr.Number(label=\"⚠️ 驚嘆號數量\", minimum=5, maximum=50, step=5, value=10)\n",
    "    greet_btn = gr.Button(\"問候\", icon=\"cherry-blossom.png\")\n",
    "    farewell_btn = gr.Button(\"道別\", icon=\"tree.png\")\n",
    "    message = gr.Textbox(label=\"🗨️ 訊息\")\n",
    "\n",
    "    greet_btn.click(greet_fn2, [name_text, num_length], message)\n",
    "    farewell_btn.click(farewell_fn2, [name_text, num_length], message)\n",
    "\n",
    "app.launch()"
   ]
  },
  {
   "cell_type": "code",
   "execution_count": null,
   "metadata": {},
   "outputs": [],
   "source": [
    "with gr.Blocks() as app:\n",
    "    gr.Button(\"上面\")\n",
    "    gr.Button(\"下面\")\n",
    "app.launch()"
   ]
  },
  {
   "cell_type": "code",
   "execution_count": null,
   "metadata": {},
   "outputs": [],
   "source": [
    "with gr.Blocks() as app:\n",
    "    with gr.Row():\n",
    "        gr.Button(\"左邊\")\n",
    "        gr.Button(\"右邊\")\n",
    "    gr.Button(\"下面\")\n",
    "app.launch()"
   ]
  },
  {
   "cell_type": "code",
   "execution_count": null,
   "metadata": {},
   "outputs": [],
   "source": [
    "with gr.Blocks() as app:\n",
    "    gr.Radio([\"貓派\", \"狗派\"], label=\"陣營\")\n",
    "    gr.CheckboxGroup([\"閱讀\", \"運動\", \"音樂\"], label=\"興趣\")\n",
    "app.launch()"
   ]
  },
  {
   "cell_type": "code",
   "execution_count": null,
   "metadata": {},
   "outputs": [],
   "source": [
    "def conv_temp(inn_temp, inn_unit, out_unit):\n",
    "    if out_unit == \"°C\":\n",
    "        if inn_unit == \"°F\":\n",
    "            return (inn_temp - 32) * 5 / 9\n",
    "        elif inn_unit == \"K\":\n",
    "            return inn_temp - 273.15\n",
    "\n",
    "    elif out_unit == \"°F\":\n",
    "        if inn_unit == \"°C\":\n",
    "            return (inn_temp * 9 / 5) + 32\n",
    "        elif inn_unit == \"K\":\n",
    "            return (inn_temp - 273.15) * 9 / 5 + 32\n",
    "\n",
    "    elif out_unit == \"K\":\n",
    "        if inn_unit == \"°C\":\n",
    "            return inn_temp + 273.15\n",
    "        elif inn_unit == \"°F\":\n",
    "            return (inn_temp - 32) * 5 / 9 + 273.15\n",
    "\n",
    "    return inn_temp\n",
    "\n",
    "\n",
    "with gr.Blocks() as app:\n",
    "    with gr.Row():\n",
    "        inn_temp = gr.Number(label=\"輸入溫度\")\n",
    "        inn_unit = gr.Radio([\"°C\", \"°F\", \"K\"], value=\"°C\", label=\"溫度單位\")\n",
    "    with gr.Row():\n",
    "        out_temp = gr.Number(label=\"輸出溫度\")\n",
    "        out_unit = gr.Radio([\"°C\", \"°F\", \"K\"], value=\"°C\", label=\"溫度單位\")\n",
    "    inn_btn = gr.Button(\"轉換\")\n",
    "\n",
    "    inn_temp.submit(conv_temp, [inn_temp, inn_unit, out_unit], out_temp)\n",
    "    inn_btn.click(conv_temp, [inn_temp, inn_unit, out_unit], out_temp)\n",
    "\n",
    "app.launch()"
   ]
  },
  {
   "cell_type": "code",
   "execution_count": null,
   "metadata": {},
   "outputs": [],
   "source": [
    "import string\n",
    "\n",
    "print(string.ascii_lowercase)\n",
    "print(string.ascii_uppercase)\n",
    "print(string.digits)\n",
    "print(string.punctuation)"
   ]
  },
  {
   "cell_type": "code",
   "execution_count": null,
   "metadata": {},
   "outputs": [],
   "source": [
    "import random\n",
    "\n",
    "random.choice(\"abcde\")"
   ]
  },
  {
   "cell_type": "code",
   "execution_count": null,
   "metadata": {},
   "outputs": [],
   "source": [
    "[random.choice(\"abcde\") for _ in range(5)]"
   ]
  },
  {
   "cell_type": "code",
   "execution_count": null,
   "metadata": {},
   "outputs": [],
   "source": [
    "arr = [\"a\", \"b\", \"c\", \"d\", \"e\"]\n",
    "\" - \".join(arr)"
   ]
  },
  {
   "cell_type": "code",
   "execution_count": null,
   "metadata": {},
   "outputs": [],
   "source": [
    "\"\".join([random.choice(\"abcde\") for _ in range(5)])\n",
    "\"\".join(random.choice(\"abcde\") for _ in range(5))"
   ]
  },
  {
   "cell_type": "code",
   "execution_count": null,
   "metadata": {},
   "outputs": [],
   "source": [
    "import random\n",
    "import string\n",
    "\n",
    "\n",
    "def generate_password(n, use_lower, use_upper, use_digit, use_symbol):\n",
    "    candidates = str()\n",
    "\n",
    "    if use_lower:\n",
    "        candidates += string.ascii_lowercase\n",
    "\n",
    "    if use_upper:\n",
    "        candidates += string.ascii_uppercase\n",
    "\n",
    "    if use_digit:\n",
    "        candidates += string.digits\n",
    "\n",
    "    if use_symbol:\n",
    "        candidates += string.punctuation\n",
    "\n",
    "    return \"\".join(random.choice(candidates) for _ in range(n))\n",
    "\n",
    "\n",
    "with gr.Blocks() as app:\n",
    "    num_length = gr.Number(label=\"長度\", value=32)\n",
    "    with gr.Row():\n",
    "        chk_lower = gr.Checkbox(label=\"小寫字母\", value=True)\n",
    "        chk_upper = gr.Checkbox(label=\"大寫字母\", value=True)\n",
    "        chk_digit = gr.Checkbox(label=\"數字\", value=True)\n",
    "        chk_symbol = gr.Checkbox(label=\"符號\")\n",
    "    generate_btn = gr.Button(\"產生\")\n",
    "    output = gr.Textbox(label=\"密碼\", show_copy_button=True)\n",
    "\n",
    "    generate_btn.click(\n",
    "        generate_password,\n",
    "        [num_length, chk_lower, chk_upper, chk_digit, chk_symbol],\n",
    "        output,\n",
    "    )\n",
    "\n",
    "app.launch()"
   ]
  },
  {
   "cell_type": "code",
   "execution_count": null,
   "metadata": {},
   "outputs": [],
   "source": [
    "def generate_password_v2(n, choices):\n",
    "    chars = [string.ascii_lowercase, string.ascii_uppercase, string.digits, string.punctuation]\n",
    "\n",
    "    candidates = str()\n",
    "    for ch in choices:\n",
    "        candidates += chars[ch]\n",
    "\n",
    "    return \"\".join(random.choice(candidates) for _ in range(n))\n",
    "\n",
    "\n",
    "with gr.Blocks() as app:\n",
    "    num_length = gr.Number(label=\"長度\", value=32)\n",
    "    choices = [\"小寫英文字母\", \"大寫英文字母\", \"數字\", \"標點符號\"]\n",
    "    chk_options = gr.CheckboxGroup(choices=choices, value=choices[:3], label=\"選項\", type=\"index\")\n",
    "    generate_btn = gr.Button(\"產生密碼\")\n",
    "    output = gr.Textbox(label=\"密碼\", show_copy_button=True)\n",
    "\n",
    "    generate_btn.click(generate_password_v2, [num_length, chk_options], output)\n",
    "\n",
    "app.launch()"
   ]
  },
  {
   "cell_type": "code",
   "execution_count": null,
   "metadata": {},
   "outputs": [],
   "source": [
    "from getpass import getpass\n",
    "\n",
    "api_key = getpass()"
   ]
  },
  {
   "cell_type": "code",
   "execution_count": null,
   "metadata": {},
   "outputs": [],
   "source": [
    "from io import BytesIO\n",
    "\n",
    "import gradio as gr\n",
    "import openai\n",
    "\n",
    "client = openai.OpenAI(api_key=api_key)\n",
    "model_name = \"gpt-4o-mini-tts\"\n",
    "resp_fmt = \"wav\"\n",
    "\n",
    "\n",
    "def foo(input_str, inst_str, speaker, speed):\n",
    "    try:\n",
    "        response = client.audio.speech.create(\n",
    "            model=model_name,\n",
    "            voice=speaker,\n",
    "            input=input_str,\n",
    "            # response_format=resp_fmt,\n",
    "            # speed=speed,\n",
    "            # instructions=inst_str if inst_str else None,\n",
    "        )\n",
    "\n",
    "        audio_bytes = BytesIO(response.read())\n",
    "        return (audio_bytes, \"audio/mp3\")\n",
    "    except Exception as e:\n",
    "        raise gr.Error(str(e))\n",
    "\n",
    "\n",
    "with gr.Blocks() as app:\n",
    "    input_str = gr.Textbox(label=\"訊息\", placeholder=\"輸入想要朗讀的字串\", submit_btn=True)\n",
    "    inst_str = gr.Textbox(label=\"指令\", placeholder=\"使用親切和藹的語氣說話\")\n",
    "    speaker = gr.Dropdown(\n",
    "        label=\"語者\",\n",
    "        choices=[\"Alloy\", \"Ash\", \"Coral\", \"Echo\", \"Fable\", \"Onyx\", \"Nova\", \"Sage\", \"Shimmer\"],\n",
    "        value=\"Shimmer\",\n",
    "    )\n",
    "    speed = gr.Slider(label=\"速度\", minimum=0.25, maximum=4.0, value=1.0, step=0.25)\n",
    "    output_wav = gr.Audio(label=\"語音\")\n",
    "\n",
    "    input_str.submit(foo, [input_str, inst_str, speaker, speed], output_wav)\n",
    "\n",
    "app.launch()"
   ]
  }
 ],
 "metadata": {
  "kernelspec": {
   "display_name": "Dev313",
   "language": "python",
   "name": "python3"
  },
  "language_info": {
   "codemirror_mode": {
    "name": "ipython",
    "version": 3
   },
   "file_extension": ".py",
   "mimetype": "text/x-python",
   "name": "python",
   "nbconvert_exporter": "python",
   "pygments_lexer": "ipython3",
   "version": "3.13.2"
  }
 },
 "nbformat": 4,
 "nbformat_minor": 2
}
